{
 "cells": [
  {
   "cell_type": "markdown",
   "metadata": {},
   "source": [
    "# Organize my Files Python\n",
    "# Karm S Augustin\n",
    "### 5/3/17\n"
   ]
  },
  {
   "cell_type": "code",
   "execution_count": 6,
   "metadata": {
    "collapsed": false
   },
   "outputs": [
    {
     "name": "stdout",
     "output_type": "stream",
     "text": [
      "/Users/karm-syndiaaugustin/Documents/CSCI-E7/Homework/GraduteProjectMaterials\n"
     ]
    }
   ],
   "source": [
    "#checking my directory that I'll be working in\n",
    "current_directory = os.getcwd()\n",
    "print (current_directory)"
   ]
  },
  {
   "cell_type": "code",
   "execution_count": 7,
   "metadata": {
    "collapsed": false
   },
   "outputs": [
    {
     "name": "stdout",
     "output_type": "stream",
     "text": [
      "10356224_789954881036940_2993122017279952528_n.jpg\n",
      "10603376_10204977704829461_3133291920424946088_n.jpg\n",
      "396480_314502415248858_1838702379_n.jpg\n",
      "Aladdin [720].mp4\n",
      "Back Postcards-2.jpg\n",
      "Certificates.docx\n",
      "Christina Perri A Thousand Years.mp3\n",
      "Company-Contract.docx\n",
      "kj logo-Recoveredsaasd.jpg\n",
      "KS Cinderalla-18.jpg\n",
      "KS Cinderalla-25.jpg\n",
      "KS Cinderalla-31.jpg\n",
      "KS Cinderalla-38.jpg\n",
      "KS Cinderalla-40.jpg\n",
      "KS Cinderalla-46.jpg\n",
      "KS For Haiti.docx\n",
      "Lecture_4_Code_Lists_Tuples_Comprehensions.pdf\n",
      "Lecture_7_Code.pdf\n",
      "Lobby Time.mp3\n",
      "Thinking Music.mp3\n",
      "♫ Aladdin - One Jump Ahead Lyrics ♫.mp3\n"
     ]
    }
   ],
   "source": [
    "#open a folder in that directory\n",
    "import os, sys\n",
    "\n",
    "folder_name = \"Dataset\"\n",
    "folder = os.listdir( folder_name )\n",
    "\n",
    "# This would print all the files in that folder\n",
    "for files in folder:\n",
    "    print (files)"
   ]
  },
  {
   "cell_type": "code",
   "execution_count": 8,
   "metadata": {
    "collapsed": false
   },
   "outputs": [
    {
     "name": "stdout",
     "output_type": "stream",
     "text": [
      "['Certificates.docx', 'Company-Contract.docx', 'KS For Haiti.docx', '10356224_789954881036940_2993122017279952528_n.jpg', '10603376_10204977704829461_3133291920424946088_n.jpg', '396480_314502415248858_1838702379_n.jpg', 'Back Postcards-2.jpg', 'KS Cinderalla-18.jpg', 'KS Cinderalla-25.jpg', 'KS Cinderalla-31.jpg', 'KS Cinderalla-38.jpg', 'KS Cinderalla-40.jpg', 'KS Cinderalla-46.jpg', 'kj logo-Recoveredsaasd.jpg', 'Christina Perri A Thousand Years.mp3', 'Lobby Time.mp3', 'Thinking Music.mp3', '♫ Aladdin - One Jump Ahead Lyrics ♫.mp3', 'Aladdin [720].mp4', 'Lecture_4_Code_Lists_Tuples_Comprehensions.pdf', 'Lecture_7_Code.pdf']\n"
     ]
    }
   ],
   "source": [
    "#sort by file type, not necessary for this workflow but usefull and clean\n",
    "\n",
    "def sort_by_type(x):\n",
    "       return os.path.splitext(x)[::-1]\n",
    "folder.sort(key = sort_by_type)\n",
    "print (list(folder))\n"
   ]
  },
  {
   "cell_type": "code",
   "execution_count": null,
   "metadata": {
    "collapsed": false
   },
   "outputs": [
    {
     "name": "stdout",
     "output_type": "stream",
     "text": [
      "['Lecture_4_Code_Lists_Tuples_Comprehensions.pdf', 'Lecture_7_Code.pdf']\n",
      "\n",
      "['10356224_789954881036940_2993122017279952528_n.jpg', '10603376_10204977704829461_3133291920424946088_n.jpg', '396480_314502415248858_1838702379_n.jpg', 'Back Postcards-2.jpg', 'KS Cinderalla-18.jpg', 'KS Cinderalla-25.jpg', 'KS Cinderalla-31.jpg', 'KS Cinderalla-38.jpg', 'KS Cinderalla-40.jpg', 'KS Cinderalla-46.jpg', 'kj logo-Recoveredsaasd.jpg']\n",
      "\n",
      "['Christina Perri A Thousand Years.mp3', 'Lobby Time.mp3', 'Thinking Music.mp3', '♫ Aladdin - One Jump Ahead Lyrics ♫.mp3']\n",
      "\n",
      "['Aladdin [720].mp4']\n",
      "\n",
      "\n"
     ]
    }
   ],
   "source": [
    "#Create folders for files to be transferred into\n",
    "import os\n",
    "\n",
    "pdf_files = [f for f in folder if f.endswith('.pdf')]\n",
    "os.mkdir('PDF_files') \n",
    "print (pdf_files)\n",
    "print ()\n",
    "\n",
    "jpg_files = [f for f in folder if f.endswith('.jpg')]\n",
    "os.mkdir('JPG_files') \n",
    "print (jpg_files)\n",
    "print ()\n",
    "\n",
    "mp3_files = [f for f in folder if f.endswith('.mp3')]\n",
    "os.mkdir('MP3_files') \n",
    "print(mp3_files)\n",
    "print ()\n",
    "\n",
    "mp4_files = [f for f in folder if f.endswith('.mp4')]\n",
    "os.mkdir('MP4_files') \n",
    "print (mp4_files)\n",
    "print ()\n",
    "\n",
    "docx_files = [f for f in folder if f.endswith('.docx')]\n",
    "os.mkdir('DOCX_files') \n",
    "print ()"
   ]
  },
  {
   "cell_type": "code",
   "execution_count": 4,
   "metadata": {
    "collapsed": false
   },
   "outputs": [],
   "source": [
    "import os\n",
    "import shutil\n",
    "\n",
    "#identify the destination path for each folder type\n",
    "\n",
    "Source = '/Users/karm-syndiaaugustin/Documents/CSCI-E7/Homework/GraduteProjectMaterials/Dataset'\n",
    "dest1 = '/Users/karm-syndiaaugustin/Documents/CSCI-E7/Homework/GraduteProjectMaterials/MP3_files'\n",
    "dest2 = '/Users/karm-syndiaaugustin/Documents/CSCI-E7/Homework/GraduteProjectMaterials/MP4_files'\n",
    "dest3 = '/Users/karm-syndiaaugustin/Documents/CSCI-E7/Homework/GraduteProjectMaterials/JPG_files '\n",
    "dest4 = '/Users/karm-syndiaaugustin/Documents/CSCI-E7/Homework/GraduteProjectMaterials/DOCX_files'\n",
    "dest5 = '/Users/karm-syndiaaugustin/Documents/CSCI-E7/Homework/GraduteProjectMaterials/PDF_files'\n",
    "\n",
    "#Now let's make the magic happen by moving file per type in their respective folder\n",
    "for files in folder:\n",
    "    if f.endswith('.mp3'):\n",
    "        shutil.move (f, dest1)\n",
    "    if f.endswith('.mp4'):\n",
    "        shutil.move (f, dest2)\n",
    "    if f.endswith('.jpg'):\n",
    "        shutil.move (f, dest3)\n",
    "    if f.endswith('.docx'):\n",
    "        shutil.move (f, dest4)\n",
    "    if f.endswith('.pdf'):\n",
    "        shutil.move (f, dest5)\n",
    "        \n",
    "print (\"CONGRATULATIONS! your files have been organized\")\n",
    "    "
   ]
  },
  {
   "cell_type": "markdown",
   "metadata": {
    "collapsed": true
   },
   "source": [
    "#### Sources\n",
    "##### https://www.tutorialspoint.com/index.htm \n",
    "##### http://stackoverflow.com\n",
    "#### http://www.pythonforbeginners.com/os/python-the-shutil-module"
   ]
  },
  {
   "cell_type": "code",
   "execution_count": null,
   "metadata": {
    "collapsed": true
   },
   "outputs": [],
   "source": []
  }
 ],
 "metadata": {
  "anaconda-cloud": {},
  "kernelspec": {
   "display_name": "Python [conda root]",
   "language": "python",
   "name": "conda-root-py"
  }
 },
 "nbformat": 4,
 "nbformat_minor": 2
}
